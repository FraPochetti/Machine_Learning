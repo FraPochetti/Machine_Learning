{
 "cells": [
  {
   "cell_type": "markdown",
   "metadata": {},
   "source": [
    "# Logistic Regression"
   ]
  },
  {
   "cell_type": "markdown",
   "metadata": {},
   "source": [
    "The logistic regression hypothesis is defined as:"
   ]
  },
  {
   "cell_type": "markdown",
   "metadata": {},
   "source": [
    "$h_\\theta(x) = p(x) = g(\\theta^Tx)$ where $g$ is the sigmoid function $ g(z) = \\frac{1}{1+e^{-z}} $"
   ]
  },
  {
   "cell_type": "markdown",
   "metadata": {},
   "source": [
    "$g$ models the relationship between $p(x) = Pr(y=1|x)$ and $x$. As you can see, the equation relating the two variables is clearly non linear (it has to be like that as we want $g$ to follow the constraints of a Cumulative Distribution Function, i.e. with outputs constrained between 0 and 1 and with an inflection point at 0.5). It is interesting to notice that logistic regression is by definition a linear model. In what is it actually linear?"
   ]
  },
  {
   "cell_type": "markdown",
   "metadata": {},
   "source": [
    "Turns out that one can show the following:"
   ]
  },
  {
   "cell_type": "markdown",
   "metadata": {},
   "source": [
    "$log(\\frac{p(x)}{1 - p(x)}) = \\theta^Tx$"
   ]
  },
  {
   "cell_type": "markdown",
   "metadata": {},
   "source": [
    "The quantity $\\frac{p(x)}{1 - p(x)}$ is called the $odds$. The previous manipulation shows that the logistic regression model has a logit (log-odds) which is linear in $x$."
   ]
  },
  {
   "cell_type": "markdown",
   "metadata": {},
   "source": [
    "The coefficients $\\theta$ are unknown and must be estimated based on the available training data. In the linear regression context we used the least squares approach, minimizing $J(\\theta) = \\frac{1}{2m} \\sum_{i=1}^{m} (h_\\theta(x^{(i)}) - y^{(i)})^2 $. Within the logistic regression framework we need to do the same but we actually can't use the identical cost function definition as before, due to it not being convex (i.e. it would have many local minima). Hence we turn to the more general $maximum$ $likelihood$ method. This is the basic intuition behind it: we seek estimates for $\\theta$ such that the predicted probability $p(x)$ of success (assuming a binary classification problem) for each observation, corresponds as closely as possible to the observation’s actual status (success/failure). In other words, we try to find $\\theta$ such that plugging\n",
    "these estimates into the model for $p(x)$, yields a number close to one for all individuals who successed, and a number close to zero for all individuals who did not. This intuition can be formalized using a mathematical equation called a likelihood function (which we need to maximize):"
   ]
  },
  {
   "cell_type": "markdown",
   "metadata": {},
   "source": [
    "$l(\\theta) = \\prod_{i:y_1=1}p(x_i) \\prod_{i:y_1=0}(1-p(x_i)) $"
   ]
  },
  {
   "cell_type": "markdown",
   "metadata": {},
   "source": [
    "Computing the negative log of the whole equation and rearranging the terms leads us to the final cost function for the logistic regression model (which we now need to minimize):"
   ]
  },
  {
   "cell_type": "markdown",
   "metadata": {},
   "source": [
    "$J(\\theta) = \\frac{1}{m}\\sum_{i=1}^m(-y_i log(h_i(\\theta)) - (1-y_i)log(1-h_i(\\theta)))$"
   ]
  },
  {
   "cell_type": "markdown",
   "metadata": {},
   "source": [
    "At the end of the day we want to find $\\theta$ so that $J(\\theta)$ is minimized, or putting it differently its gradient is 0, where the gradient of the cost function with respect to $\\theta$ is equal to"
   ]
  },
  {
   "cell_type": "markdown",
   "metadata": {},
   "source": [
    "$\\nabla_{\\theta} J(\\theta) = \\frac{1}{m} \\sum_{i=1}^{m} (h_\\theta(x^{(i)}) - y^{(i)}) x_j^{(i)}$ "
   ]
  },
  {
   "cell_type": "markdown",
   "metadata": {},
   "source": [
    "basically identical to the linear regression one, just with a different $h_{\\theta}$"
   ]
  },
  {
   "cell_type": "markdown",
   "metadata": {},
   "source": [
    "## Problem definition "
   ]
  },
  {
   "cell_type": "markdown",
   "metadata": {},
   "source": [
    "Suppose that you are the administrator of a university department and you want to determine each applicant's chance of admission based on their results on two exams. You have historical data from previous applicants that you can use as a training set for logistic regression. For each training example, you have the applicant's scores on two exams and the admissions decision.\n",
    "Your task is to build a classification model that estimates an applicant's probability of admission based the scores from those two exams."
   ]
  },
  {
   "cell_type": "code",
   "execution_count": 2,
   "metadata": {
    "collapsed": true
   },
   "outputs": [],
   "source": [
    "import numpy as np\n",
    "import pandas as pd\n",
    "import seaborn as sns\n",
    "import matplotlib.pyplot as plt\n",
    "plt.style.use('ggplot')\n",
    "%matplotlib inline\n",
    "\n",
    "students_exams = pd.read_csv('C:\\\\Users\\\\pochetti\\Machine_Learning\\\\mlclass-ex2-005\\\\mlclass-ex2\\ex2data1.txt', \n",
    "                            header=None,\n",
    "                            names=['FirstExamScore', 'SecondExamScore', 'Results'])\n",
    "students_exams['Admission'] = np.where(students_exams.Results==0, 'Not Admitted', 'Admitted')"
   ]
  },
  {
   "cell_type": "code",
   "execution_count": 3,
   "metadata": {
    "collapsed": false
   },
   "outputs": [
    {
     "data": {
      "image/png": "[encoded data removed]",
      "text/plain": [
       "<matplotlib.figure.Figure at 0x4516c18>"
      ]
     },
     "metadata": {},
     "output_type": "display_data"
    }
   ],
   "source": [
    "g = sns.lmplot(\"FirstExamScore\", \"SecondExamScore\", hue=\"Admission\", \n",
    "               data=students_exams, markers=[\"o\", \"x\"], fit_reg=False, size=8)"
   ]
  },
  {
   "cell_type": "markdown",
   "metadata": {},
   "source": [
    "### Functions"
   ]
  },
  {
   "cell_type": "code",
   "execution_count": 4,
   "metadata": {
    "collapsed": true
   },
   "outputs": [],
   "source": [
    "def sigmoid(z):\n",
    "    return 1/(1 + np.exp(-z))\n",
    "\n",
    "def computeCost(theta, X, y):\n",
    "    m = y.shape[0]\n",
    "    h_theta = sigmoid(X.dot(theta))\n",
    "\n",
    "    cost = 1/m * (np.dot(np.log(h_theta).T, -y) + np.dot(np.log(1-h_theta).T, -(1-y))) \n",
    "    \n",
    "    if np.isnan(cost):\n",
    "        return np.inf\n",
    "    \n",
    "    return cost\n",
    "\n",
    "def computeGradient(theta, X, y):\n",
    "    theta = theta.reshape(-1, 1)\n",
    "    m = y.shape[0]\n",
    "    h_theta = sigmoid(X.dot(theta))\n",
    "    \n",
    "    gradient = 1/m * np.dot(X.T, h_theta - y)\n",
    "    return gradient.flatten()\n",
    "\n",
    "def plotDecisionBoundary(X, theta):\n",
    "    plotx = np.array([min(X[:,1])-2, max(X[:,1])+2])\n",
    "    ploty = -(theta[1] * plotx + theta[0])/theta[2]\n",
    "    \n",
    "    return plotx, ploty\n",
    "\n",
    "def predict(X, theta):\n",
    "    prob = sigmoid(X.dot(theta))\n",
    "    p = np.where(prob < 0.5, 0, 1)\n",
    "    \n",
    "    return p.reshape(-1, 1)"
   ]
  },
  {
   "cell_type": "markdown",
   "metadata": {},
   "source": [
    "### Running the Model"
   ]
  },
  {
   "cell_type": "code",
   "execution_count": 5,
   "metadata": {
    "collapsed": false
   },
   "outputs": [
    {
     "name": "stdout",
     "output_type": "stream",
     "text": [
      "Optimization terminated successfully.\n",
      "         Current function value: 0.203498\n",
      "         Iterations: 23\n",
      "         Function evaluations: 28\n",
      "         Gradient evaluations: 28\n"
     ]
    },
    {
     "name": "stderr",
     "output_type": "stream",
     "text": [
      "c:\\users\\pochetti\\appdata\\local\\continuum\\anaconda\\envs\\foodproject\\lib\\site-packages\\ipykernel\\__main__.py:8: RuntimeWarning: divide by zero encountered in log\n"
     ]
    }
   ],
   "source": [
    "data = np.loadtxt('C:\\\\Users\\\\pochetti\\Machine_Learning\\\\mlclass-ex2-005\\\\mlclass-ex2\\ex2data1.txt', delimiter=',')\n",
    "X = data[:,0:2]\n",
    "y = data[:,2]\n",
    "y = y.reshape(y.shape[0], 1)\n",
    "X = np.c_[np.ones(X.shape[0]), X] # adding column of ones to X to account for theta_0 (the intercept)\n",
    "initial_theta = np.zeros((X.shape[1], 1))\n",
    "\n",
    "from scipy import optimize\n",
    "theta = optimize.fmin_bfgs(f=computeCost, x0=initial_theta, args=(X, y), fprime=computeGradient)"
   ]
  },
  {
   "cell_type": "markdown",
   "metadata": {},
   "source": [
    "### Plotting Results"
   ]
  },
  {
   "cell_type": "code",
   "execution_count": 6,
   "metadata": {
    "collapsed": false
   },
   "outputs": [
    {
     "data": {
      "image/png": "[encoded data removed]",
      "text/plain": [
       "<matplotlib.figure.Figure at 0x8ee04e0>"
      ]
     },
     "metadata": {},
     "output_type": "display_data"
    }
   ],
   "source": [
    "plotx, ploty= plotDecisionBoundary(X, theta)\n",
    "g = sns.lmplot(\"FirstExamScore\", \"SecondExamScore\", hue=\"Admission\", \n",
    "               data=students_exams, markers=[\"o\", \"x\"], fit_reg=False, size=8, legend=False)\n",
    "ax = g.ax\n",
    "ax.plot(plotx, ploty, color='k', label='Decision Boundary')\n",
    "legend = ax.legend(loc=1, shadow=True)\n",
    "plt.show()"
   ]
  },
  {
   "cell_type": "markdown",
   "metadata": {},
   "source": [
    "### Calculating Model Accuracy"
   ]
  },
  {
   "cell_type": "code",
   "execution_count": 7,
   "metadata": {
    "collapsed": false
   },
   "outputs": [
    {
     "name": "stdout",
     "output_type": "stream",
     "text": [
      "Model Accuracy:  89.0 %\n"
     ]
    }
   ],
   "source": [
    "print('Model Accuracy: ',  ((y == predict(X, theta)).sum()/y.shape[0]) * 100, '%')"
   ]
  },
  {
   "cell_type": "markdown",
   "metadata": {},
   "source": [
    "## Regularized Logistic Regression"
   ]
  },
  {
   "cell_type": "markdown",
   "metadata": {},
   "source": [
    "### Problem Definition"
   ]
  },
  {
   "cell_type": "markdown",
   "metadata": {},
   "source": [
    "We will implement regularized logistic regression to predict whether microchips from a fabrication plant passes quality assurance (QA). During QA, each microchip goes through various tests to ensure it is functioning correctly.\n",
    "Suppose you are the product manager of the factory and you have the test results for some microchips on two different tests. From these two tests, you would like to determine whether the microchips should be accepted or rejected. To help you make the decision, you have a dataset of test results on past microchips, from which you can build a logistic regression model."
   ]
  },
  {
   "cell_type": "code",
   "execution_count": 8,
   "metadata": {
    "collapsed": false,
    "scrolled": false
   },
   "outputs": [
    {
     "data": {
      "image/png": "[encoded data removed]",
      "text/plain": [
       "<matplotlib.figure.Figure at 0x8f08160>"
      ]
     },
     "metadata": {},
     "output_type": "display_data"
    }
   ],
   "source": [
    "microchips = pd.read_csv('C:\\\\Users\\\\pochetti\\Machine_Learning\\\\mlclass-ex2-005\\\\mlclass-ex2\\ex2data2.txt', \n",
    "                            header=None,\n",
    "                            names=['MicrochipTest1', 'MicrochipTest2', 'Results'])\n",
    "microchips['QA'] = np.where(microchips.Results==0, 'Rejected', 'Accepted')\n",
    "\n",
    "g = sns.lmplot(\"MicrochipTest1\", \"MicrochipTest2\", hue=\"QA\", \n",
    "               data=microchips, markers=[\"o\", \"x\"], fit_reg=False, size=8, palette=dict(Rejected=\"g\", Accepted=\"b\"))"
   ]
  },
  {
   "cell_type": "markdown",
   "metadata": {},
   "source": [
    "It is very clear that the decision boundary is not linear. Logistic Regression as we implemented it above would miserably fail in this context. We need to move away from linearity in order to solve the microchips QA's problem. In order to achieve that we will add a bunch of features combining the 2 test scores into all their polynomial terms up to the sixth power. Doing so we take care of the low bias of the model, but we will also introduce inevitably much more variance. We will combat this second term using regularization. "
   ]
  },
  {
   "cell_type": "markdown",
   "metadata": {},
   "source": [
    "Applying a regularization terms the cost function looks like this:"
   ]
  },
  {
   "cell_type": "markdown",
   "metadata": {},
   "source": [
    "$J(\\theta) = \\frac{1}{m}\\sum_{i=1}^m(-y_i log(h_i(\\theta)) - (1-y_i)log(1-h_i(\\theta))) + \\frac{\\lambda}{2m}\\sum_{j=1}^n\\theta_j^2$"
   ]
  },
  {
   "cell_type": "markdown",
   "metadata": {},
   "source": [
    "we need to keep in mind that the we don't have to regularize $\\theta_0$, which refers to the first feature we artificially set to 1. Hence the gradient of the cost will look like the following"
   ]
  },
  {
   "cell_type": "markdown",
   "metadata": {},
   "source": [
    "$\\frac{\\partial J(\\theta)}{\\partial \\theta_0} = \\frac{1}{m} \\sum_{i=1}^{m} (h_\\theta(x^{(i)}) - y^{(i)}) x_j^{(i)} $ for $j=0$"
   ]
  },
  {
   "cell_type": "markdown",
   "metadata": {},
   "source": [
    "$\\frac{\\partial J(\\theta)}{\\partial \\theta_j} = \\frac{1}{m} \\sum_{i=1}^{m} (h_\\theta(x^{(i)}) - y^{(i)}) x_j^{(i)} + \\frac{\\lambda}{m}\\sum_{j=1}^n\\theta_j$ for $j\\geq1$"
   ]
  },
  {
   "cell_type": "markdown",
   "metadata": {},
   "source": [
    "### Functions"
   ]
  },
  {
   "cell_type": "code",
   "execution_count": 69,
   "metadata": {
    "collapsed": false
   },
   "outputs": [],
   "source": [
    "def mapFeature(X1, X2, degree):\n",
    "    \"\"\" MAPFEATURE Feature mapping function to polynomial features\n",
    "\n",
    "    MAPFEATURE(X1, X2) maps the two input features\n",
    "    to quadratic features used in the regularization exercise.\n",
    "\n",
    "    Returns a new feature array with more features, comprising of \n",
    "    X1, X2, X1.^2, X2.^2, X1*X2, X1*X2.^2, etc..\n",
    "\n",
    "    Inputs X1, X2 must be the same size\"\"\"\n",
    "    \n",
    "    X = np.ones(X1.shape[0])\n",
    "    for i in np.arange(degree)+1:\n",
    "        for j in np.arange(i+1):\n",
    "            X = np.c_[X, np.power(X1, i-j) * np.power(X2, j)]\n",
    "    return X\n",
    "\n",
    "def computeCostReg(theta, X, y, lamb):\n",
    "    m = y.shape[0]\n",
    "    h_theta = sigmoid(X.dot(theta))\n",
    "\n",
    "    cost = 1/m * (np.dot(np.log(h_theta).T, -y) + np.dot(np.log(1-h_theta).T, -(1-y))) + (lamb/2*m) * theta[1:,].T.dot(theta[1:,])\n",
    "    \n",
    "    return np.asscalar(cost.squeeze())\n",
    "\n",
    "def computeGradientReg(theta, X, y, lamb):\n",
    "    theta = theta.reshape(-1, 1)\n",
    "    m = y.shape[0]\n",
    "    h_theta = sigmoid(X.dot(theta))\n",
    "    \n",
    "    gradient = 1/m * np.dot(X.T, h_theta - y)\n",
    "    gradient[1:] += lamb/m * theta[1:,]\n",
    "    \n",
    "    return gradient.flatten()\n",
    "\n",
    "def featureNormalize(X):\n",
    "    average = np.mean(X, axis=0)\n",
    "    sigma = np.std(X, axis= 0)\n",
    "    X = (X-average)/sigma\n",
    "    return X\n",
    "\n",
    "def plotDecisionBoundaryReg(X, theta, ax):\n",
    "    # generating an evenly spaced grid to evaluate the classifier's predictions\n",
    "    u = np.linspace(-1, 1.5, 50)\n",
    "    v = np.linspace(-1, 1.5, 50)\n",
    "    \n",
    "    z = np.zeros((len(u), len(v)));\n",
    "    # Evaluate z = theta*x over the grid\n",
    "    for i in np.arange(len(u)):\n",
    "        for j in np.arange(len(v)):\n",
    "            z[i,j]= np.dot(mapFeature(np.atleast_1d(u[i]).reshape(-1,1), np.atleast_1d(v[j]).reshape(-1,1), 6), theta.x)\n",
    "    \n",
    "    cs = ax.contour(u, v, z.T, linewidth=4, levels=[0], colors='k')\n",
    "    plt.clabel(cs,  \n",
    "               inline=1,\n",
    "               fmt='%1.2f',\n",
    "               fontsize=14)\n",
    "    plt.show()\n",
    "    return z"
   ]
  },
  {
   "cell_type": "markdown",
   "metadata": {},
   "source": [
    "### Running the model"
   ]
  },
  {
   "cell_type": "code",
   "execution_count": 119,
   "metadata": {
    "collapsed": false
   },
   "outputs": [],
   "source": [
    "data = np.loadtxt('C:\\\\Users\\\\pochetti\\Machine_Learning\\\\mlclass-ex2-005\\\\mlclass-ex2\\ex2data2.txt', delimiter=',')\n",
    "X = data[:,0:2]\n",
    "y = data[:,2]\n",
    "y = y.reshape(y.shape[0], 1)\n",
    "\n",
    "# mapping features into all polynomial terms of X1 and X2 up to the sixth power\n",
    "X_expanded = mapFeature(X[:,0], X[:,1], 6)\n",
    "\n",
    "initial_theta = np.zeros((X_expanded.shape[1], 1))\n",
    "#initial_theta = np.random.rand(X_expanded.shape[1], 1)"
   ]
  },
  {
   "cell_type": "code",
   "execution_count": 134,
   "metadata": {
    "collapsed": false,
    "scrolled": false
   },
   "outputs": [
    {
     "ename": "TypeError",
     "evalue": "decoding str is not supported",
     "output_type": "error",
     "traceback": [
      "\u001b[1;31m---------------------------------------------------------------------------\u001b[0m",
      "\u001b[1;31mTypeError\u001b[0m                                 Traceback (most recent call last)",
      "\u001b[1;32m<ipython-input-134-51a191c24ccf>\u001b[0m in \u001b[0;36m<module>\u001b[1;34m()\u001b[0m\n\u001b[0;32m      7\u001b[0m     \u001b[0max\u001b[0m \u001b[1;33m=\u001b[0m \u001b[0mg\u001b[0m\u001b[1;33m.\u001b[0m\u001b[0max\u001b[0m\u001b[1;33m\u001b[0m\u001b[0m\n\u001b[0;32m      8\u001b[0m     \u001b[0maccuracy\u001b[0m \u001b[1;33m=\u001b[0m \u001b[1;33m(\u001b[0m\u001b[1;33m(\u001b[0m\u001b[0my\u001b[0m \u001b[1;33m==\u001b[0m \u001b[0mpredict\u001b[0m\u001b[1;33m(\u001b[0m\u001b[0mX_expanded\u001b[0m\u001b[1;33m,\u001b[0m \u001b[0mtheta\u001b[0m\u001b[1;33m.\u001b[0m\u001b[0mx\u001b[0m\u001b[1;33m)\u001b[0m\u001b[1;33m)\u001b[0m\u001b[1;33m.\u001b[0m\u001b[0msum\u001b[0m\u001b[1;33m(\u001b[0m\u001b[1;33m)\u001b[0m\u001b[1;33m/\u001b[0m\u001b[0my\u001b[0m\u001b[1;33m.\u001b[0m\u001b[0mshape\u001b[0m\u001b[1;33m[\u001b[0m\u001b[1;36m0\u001b[0m\u001b[1;33m]\u001b[0m\u001b[1;33m)\u001b[0m\u001b[1;33m*\u001b[0m\u001b[1;36m100\u001b[0m\u001b[1;33m\u001b[0m\u001b[0m\n\u001b[1;32m----> 9\u001b[1;33m     \u001b[0mtitle_name\u001b[0m \u001b[1;33m=\u001b[0m \u001b[0mstr\u001b[0m\u001b[1;33m(\u001b[0m\u001b[1;34m'Lambda: '\u001b[0m \u001b[1;33m+\u001b[0m \u001b[0mstr\u001b[0m\u001b[1;33m(\u001b[0m\u001b[0mlamb\u001b[0m\u001b[1;33m)\u001b[0m \u001b[1;33m+\u001b[0m \u001b[1;34m'; Accuracy: '\u001b[0m\u001b[1;33m,\u001b[0m \u001b[0mstr\u001b[0m\u001b[1;33m(\u001b[0m\u001b[0mround\u001b[0m\u001b[1;33m(\u001b[0m\u001b[0maccuracy\u001b[0m\u001b[1;33m,\u001b[0m \u001b[1;36m2\u001b[0m\u001b[1;33m)\u001b[0m\u001b[1;33m)\u001b[0m \u001b[1;33m+\u001b[0m \u001b[1;34m'%'\u001b[0m\u001b[1;33m)\u001b[0m\u001b[1;33m\u001b[0m\u001b[0m\n\u001b[0m\u001b[0;32m     10\u001b[0m     \u001b[0max\u001b[0m\u001b[1;33m.\u001b[0m\u001b[0mset_title\u001b[0m\u001b[1;33m(\u001b[0m\u001b[0mtitle_name\u001b[0m\u001b[1;33m)\u001b[0m\u001b[1;33m\u001b[0m\u001b[0m\n\u001b[0;32m     11\u001b[0m     \u001b[0mz\u001b[0m \u001b[1;33m=\u001b[0m \u001b[0mplotDecisionBoundaryReg\u001b[0m\u001b[1;33m(\u001b[0m\u001b[0mX\u001b[0m\u001b[1;33m,\u001b[0m \u001b[0mtheta\u001b[0m\u001b[1;33m,\u001b[0m \u001b[0max\u001b[0m\u001b[1;33m)\u001b[0m\u001b[1;33m\u001b[0m\u001b[0m\n",
      "\u001b[1;31mTypeError\u001b[0m: decoding str is not supported"
     ]
    },
    {
     "data": {
      "image/png": "[encoded data removed]",
      "text/plain": [
       "<matplotlib.figure.Figure at 0xa818a58>"
      ]
     },
     "metadata": {},
     "output_type": "display_data"
    }
   ],
   "source": [
    "for lamb in [0, 0.01, 0.1, 1, 100]:\n",
    "    theta = optimize.minimize(fun=computeCostReg, x0=initial_theta.squeeze(), args=(X_expanded, y, lamb),\n",
    "                          method='TNC', jac=computeGradientReg, options=dict(disp=True, maxiter=100000))\n",
    "\n",
    "    g = sns.lmplot(\"MicrochipTest1\", \"MicrochipTest2\", hue=\"QA\", \n",
    "                   data=microchips, markers=[\"o\", \"x\"], fit_reg=False, size=8, palette=dict(Rejected=\"g\", Accepted=\"b\"))\n",
    "    ax = g.ax\n",
    "    accuracy = ((y == predict(X_expanded, theta.x)).sum()/y.shape[0])*100\n",
    "    title_name = str('Lambda: ' + str(lamb) + '; Accuracy: ', str(round(accuracy, 2)) + '%')\n",
    "    ax.set_title('{0} {1}'.format(lamb, round(accuracy, 2)))\n",
    "    z = plotDecisionBoundaryReg(X, theta, ax)"
   ]
  },
  {
   "cell_type": "code",
   "execution_count": 115,
   "metadata": {
    "collapsed": false
   },
   "outputs": [
    {
     "data": {
      "text/plain": [
       "     fun: 0.6931467910428868\n",
       "     jac: array([  8.47301802e-03,   1.87858352e-02,   7.81421700e-05,\n",
       "         5.03384418e-02,   1.14998586e-02,   3.76604201e-02,\n",
       "         1.83537490e-02,   7.32305518e-03,   8.19142024e-03,\n",
       "         2.34737711e-02,   3.93437261e-02,   2.23895946e-03,\n",
       "         1.28584663e-02,   3.09553905e-03,   3.92980718e-02,\n",
       "         1.99682803e-02,   4.32930059e-03,   3.38602072e-03,\n",
       "         5.83750759e-03,   4.47572385e-03,   3.10042636e-02,\n",
       "         3.10273724e-02,   1.09726869e-03,   6.31492288e-03,\n",
       "         4.08453097e-04,   7.26414700e-03,   1.37628295e-03,\n",
       "         3.87889185e-02])\n",
       " message: 'Linear search failed'\n",
       "    nfev: 87\n",
       "     nit: 1\n",
       "  status: 4\n",
       " success: False\n",
       "       x: array([  2.80288366e-07,  -2.05609602e-06,   1.19522604e-06,\n",
       "        -6.63748167e-06,  -1.70320403e-06,  -4.35586912e-06,\n",
       "        -2.21189076e-06,  -9.15885231e-07,  -1.10594211e-06,\n",
       "        -2.56284679e-06,  -5.33382830e-06,  -2.99639813e-07,\n",
       "        -1.71675993e-06,  -4.57304774e-07,  -4.92172719e-06,\n",
       "        -2.56391922e-06,  -5.75500947e-07,  -4.37902122e-07,\n",
       "        -7.65809042e-07,  -6.32965549e-07,  -3.79087306e-06,\n",
       "        -4.21777893e-06,  -1.32363083e-07,  -8.63375667e-07,\n",
       "        -4.84926560e-08,  -9.74377950e-07,  -2.04808630e-07,\n",
       "        -4.94728798e-06])"
      ]
     },
     "execution_count": 115,
     "metadata": {},
     "output_type": "execute_result"
    }
   ],
   "source": [
    "theta"
   ]
  },
  {
   "cell_type": "code",
   "execution_count": 116,
   "metadata": {
    "collapsed": false
   },
   "outputs": [
    {
     "name": "stdout",
     "output_type": "stream",
     "text": [
      "Model Accuracy:  56.7796610169 %\n"
     ]
    }
   ],
   "source": [
    "print('Model Accuracy: ',  ((y == predict(X_expanded, theta.x)).sum()/y.shape[0]) * 100, '%')"
   ]
  },
  {
   "cell_type": "markdown",
   "metadata": {},
   "source": [
    "### Appendix: How to estimate the gradient of the cost, given the cost function"
   ]
  },
  {
   "cell_type": "markdown",
   "metadata": {},
   "source": [
    "Let's say we have both the cost and the gradient functions but we need to somehow debug the latter, as we are already sure the first is correct. This can be quite challenging if we don't have a benchmark. Turns out that there is a math trick which does the job pretty well."
   ]
  },
  {
   "cell_type": "markdown",
   "metadata": {},
   "source": [
    "It suffices to re-surface from our calculus courses the definition of derivative w.r.t. a variable and we can write down the following"
   ]
  },
  {
   "cell_type": "markdown",
   "metadata": {},
   "source": [
    "$\\frac{\\partial J(\\theta)}{\\partial \\theta_j} = \\frac{J(\\theta_j + \\epsilon) - J(\\theta_j)}{\\epsilon}$ with $\\epsilon$ arbitrarily small"
   ]
  },
  {
   "cell_type": "markdown",
   "metadata": {},
   "source": [
    "This is actually already implemented in scipy, with the check_grad function."
   ]
  },
  {
   "cell_type": "code",
   "execution_count": null,
   "metadata": {
    "collapsed": false
   },
   "outputs": [],
   "source": [
    "from scipy.optimize import check_grad\n",
    "\n",
    "check_grad(computeCostReg, computeGradientReg, initial_theta.squeeze(), X_expanded, y, lamb)"
   ]
  },
  {
   "cell_type": "markdown",
   "metadata": {},
   "source": [
    "The error is pretty small!"
   ]
  }
 ],
 "metadata": {
  "kernelspec": {
   "display_name": "Python 3",
   "language": "python",
   "name": "python3"
  },
  "language_info": {
   "codemirror_mode": {
    "name": "ipython",
    "version": 3
   },
   "file_extension": ".py",
   "mimetype": "text/x-python",
   "name": "python",
   "nbconvert_exporter": "python",
   "pygments_lexer": "ipython3",
   "version": "3.5.2"
  }
 },
 "nbformat": 4,
 "nbformat_minor": 0
}
